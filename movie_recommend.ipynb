{
 "cells": [
  {
   "cell_type": "code",
   "execution_count": 1,
   "id": "9085cda0-15b5-44f5-afe1-fdc8a2cb816b",
   "metadata": {},
   "outputs": [],
   "source": [
    "import pandas as pd\n",
    "import cornac\n",
    "import warnings\n",
    "warnings.filterwarnings('ignore')\n",
    "from cornac.data import Dataset,Reader\n",
    "from cornac.models import SVD\n",
    "from cornac.eval_methods import RatioSplit\n",
    "from cornac.metrics import RMSE, MAE, Precision, Recall\n",
    "from cornac.eval_methods import CrossValidation\n"
   ]
  },
  {
   "cell_type": "code",
   "execution_count": 2,
   "id": "8a208956-389f-4523-a67e-d0e5db092509",
   "metadata": {},
   "outputs": [],
   "source": [
    "movies = pd.read_csv('movies_metadata.csv')\n",
    "ratings = pd.read_csv('ratings.csv')"
   ]
  },
  {
   "cell_type": "code",
   "execution_count": 3,
   "id": "3ec50b7e-cbb9-4d96-8ecd-9510bab03198",
   "metadata": {},
   "outputs": [
    {
     "name": "stdout",
     "output_type": "stream",
     "text": [
      "<class 'pandas.core.frame.DataFrame'>\n",
      "RangeIndex: 45466 entries, 0 to 45465\n",
      "Data columns (total 24 columns):\n",
      " #   Column                 Non-Null Count  Dtype  \n",
      "---  ------                 --------------  -----  \n",
      " 0   adult                  45466 non-null  object \n",
      " 1   belongs_to_collection  4494 non-null   object \n",
      " 2   budget                 45466 non-null  object \n",
      " 3   genres                 45466 non-null  object \n",
      " 4   homepage               7782 non-null   object \n",
      " 5   id                     45466 non-null  object \n",
      " 6   imdb_id                45449 non-null  object \n",
      " 7   original_language      45455 non-null  object \n",
      " 8   original_title         45466 non-null  object \n",
      " 9   overview               44512 non-null  object \n",
      " 10  popularity             45461 non-null  object \n",
      " 11  poster_path            45080 non-null  object \n",
      " 12  production_companies   45463 non-null  object \n",
      " 13  production_countries   45463 non-null  object \n",
      " 14  release_date           45379 non-null  object \n",
      " 15  revenue                45460 non-null  float64\n",
      " 16  runtime                45203 non-null  float64\n",
      " 17  spoken_languages       45460 non-null  object \n",
      " 18  status                 45379 non-null  object \n",
      " 19  tagline                20412 non-null  object \n",
      " 20  title                  45460 non-null  object \n",
      " 21  video                  45460 non-null  object \n",
      " 22  vote_average           45460 non-null  float64\n",
      " 23  vote_count             45460 non-null  float64\n",
      "dtypes: float64(4), object(20)\n",
      "memory usage: 8.3+ MB\n",
      "None\n"
     ]
    }
   ],
   "source": [
    "print(movies.info())\n"
   ]
  },
  {
   "cell_type": "code",
   "execution_count": 35,
   "id": "ed5fefef-73f4-4b06-8baa-6272a15a7416",
   "metadata": {},
   "outputs": [
    {
     "name": "stdout",
     "output_type": "stream",
     "text": [
      "[   862   8844  15602 ...  67758 227506 461257]\n"
     ]
    }
   ],
   "source": [
    "print(movies['id'].unique())\n"
   ]
  },
  {
   "cell_type": "code",
   "execution_count": 4,
   "id": "33fe291e-8e5a-4761-89bf-f0550d1f56b2",
   "metadata": {},
   "outputs": [
    {
     "name": "stdout",
     "output_type": "stream",
     "text": [
      "<class 'pandas.core.frame.DataFrame'>\n",
      "RangeIndex: 1048575 entries, 0 to 1048574\n",
      "Data columns (total 3 columns):\n",
      " #   Column   Non-Null Count    Dtype  \n",
      "---  ------   --------------    -----  \n",
      " 0   userId   1048575 non-null  int64  \n",
      " 1   movieId  1048575 non-null  int64  \n",
      " 2   rating   1048575 non-null  float64\n",
      "dtypes: float64(1), int64(2)\n",
      "memory usage: 24.0 MB\n",
      "None\n"
     ]
    }
   ],
   "source": [
    "\n",
    "print(ratings.info())\n"
   ]
  },
  {
   "cell_type": "code",
   "execution_count": null,
   "id": "46a4024a-5d40-4b75-83b7-1673ce2bbc89",
   "metadata": {},
   "outputs": [],
   "source": [
    "\n"
   ]
  },
  {
   "cell_type": "code",
   "execution_count": 5,
   "id": "7e78bbed-711e-4de6-914b-f3481371eb2f",
   "metadata": {},
   "outputs": [
    {
     "name": "stdout",
     "output_type": "stream",
     "text": [
      "   adult                              belongs_to_collection    budget  \\\n",
      "0  False  {'id': 10194, 'name': 'Toy Story Collection', ...  30000000   \n",
      "1  False                                                NaN  65000000   \n",
      "2  False  {'id': 119050, 'name': 'Grumpy Old Men Collect...         0   \n",
      "3  False                                                NaN  16000000   \n",
      "4  False  {'id': 96871, 'name': 'Father of the Bride Col...         0   \n",
      "\n",
      "                                              genres  \\\n",
      "0  [{'id': 16, 'name': 'Animation'}, {'id': 35, '...   \n",
      "1  [{'id': 12, 'name': 'Adventure'}, {'id': 14, '...   \n",
      "2  [{'id': 10749, 'name': 'Romance'}, {'id': 35, ...   \n",
      "3  [{'id': 35, 'name': 'Comedy'}, {'id': 18, 'nam...   \n",
      "4                     [{'id': 35, 'name': 'Comedy'}]   \n",
      "\n",
      "                               homepage     id    imdb_id original_language  \\\n",
      "0  http://toystory.disney.com/toy-story    862  tt0114709                en   \n",
      "1                                   NaN   8844  tt0113497                en   \n",
      "2                                   NaN  15602  tt0113228                en   \n",
      "3                                   NaN  31357  tt0114885                en   \n",
      "4                                   NaN  11862  tt0113041                en   \n",
      "\n",
      "                original_title  \\\n",
      "0                    Toy Story   \n",
      "1                      Jumanji   \n",
      "2             Grumpier Old Men   \n",
      "3            Waiting to Exhale   \n",
      "4  Father of the Bride Part II   \n",
      "\n",
      "                                            overview  ... release_date  \\\n",
      "0  Led by Woody, Andy's toys live happily in his ...  ...   1995-10-30   \n",
      "1  When siblings Judy and Peter discover an encha...  ...   1995-12-15   \n",
      "2  A family wedding reignites the ancient feud be...  ...   1995-12-22   \n",
      "3  Cheated on, mistreated and stepped on, the wom...  ...   1995-12-22   \n",
      "4  Just when George Banks has recovered from his ...  ...   1995-02-10   \n",
      "\n",
      "       revenue runtime                                   spoken_languages  \\\n",
      "0  373554033.0    81.0           [{'iso_639_1': 'en', 'name': 'English'}]   \n",
      "1  262797249.0   104.0  [{'iso_639_1': 'en', 'name': 'English'}, {'iso...   \n",
      "2          0.0   101.0           [{'iso_639_1': 'en', 'name': 'English'}]   \n",
      "3   81452156.0   127.0           [{'iso_639_1': 'en', 'name': 'English'}]   \n",
      "4   76578911.0   106.0           [{'iso_639_1': 'en', 'name': 'English'}]   \n",
      "\n",
      "     status                                            tagline  \\\n",
      "0  Released                                                NaN   \n",
      "1  Released          Roll the dice and unleash the excitement!   \n",
      "2  Released  Still Yelling. Still Fighting. Still Ready for...   \n",
      "3  Released  Friends are the people who let you be yourself...   \n",
      "4  Released  Just When His World Is Back To Normal... He's ...   \n",
      "\n",
      "                         title  video vote_average vote_count  \n",
      "0                    Toy Story  False          7.7     5415.0  \n",
      "1                      Jumanji  False          6.9     2413.0  \n",
      "2             Grumpier Old Men  False          6.5       92.0  \n",
      "3            Waiting to Exhale  False          6.1       34.0  \n",
      "4  Father of the Bride Part II  False          5.7      173.0  \n",
      "\n",
      "[5 rows x 24 columns]\n"
     ]
    }
   ],
   "source": [
    "print(movies.head())\n"
   ]
  },
  {
   "cell_type": "code",
   "execution_count": 6,
   "id": "031b994b-80d1-4438-a9ed-07e002d6045c",
   "metadata": {},
   "outputs": [
    {
     "name": "stdout",
     "output_type": "stream",
     "text": [
      "   userId  movieId  rating\n",
      "0       1      110     1.0\n",
      "1       1      147     4.5\n",
      "2       1      858     5.0\n",
      "3       1     1221     5.0\n",
      "4       1     1246     5.0\n"
     ]
    }
   ],
   "source": [
    "print(ratings.head())\n"
   ]
  },
  {
   "cell_type": "code",
   "execution_count": 7,
   "id": "e6ad941e-b703-4fdd-89bd-a8965896b74c",
   "metadata": {},
   "outputs": [],
   "source": [
    "import seaborn as sns\n",
    "import matplotlib.pyplot as plt\n"
   ]
  },
  {
   "cell_type": "code",
   "execution_count": 8,
   "id": "1428a60d-d306-4fac-afc6-a321d0017b50",
   "metadata": {},
   "outputs": [
    {
     "name": "stdout",
     "output_type": "stream",
     "text": [
      "             userId       movieId        rating\n",
      "count  1.048575e+06  1.048575e+06  1.048575e+06\n",
      "mean   5.378787e+03  1.615889e+04  3.537035e+00\n",
      "std    3.064842e+03  3.126738e+04  1.045203e+00\n",
      "min    1.000000e+00  1.000000e+00  5.000000e-01\n",
      "25%    2.728000e+03  1.080000e+03  3.000000e+00\n",
      "50%    5.383000e+03  2.642000e+03  3.500000e+00\n",
      "75%    8.060000e+03  6.643000e+03  4.000000e+00\n",
      "max    1.065600e+04  1.762710e+05  5.000000e+00\n"
     ]
    }
   ],
   "source": [
    "print(ratings.describe())"
   ]
  },
  {
   "cell_type": "code",
   "execution_count": 25,
   "id": "89084f58-405b-467e-a351-8702e1f1ac35",
   "metadata": {},
   "outputs": [
    {
     "data": {
      "image/png": "[encoded data removed]",
      "text/plain": [
       "<Figure size 640x480 with 1 Axes>"
      ]
     },
     "metadata": {},
     "output_type": "display_data"
    }
   ],
   "source": [
    "ratings['rating'].hist(bins=20)\n",
    "plt.title('Distribution of Movie Ratings')\n",
    "plt.xlabel('Rating')\n",
    "plt.ylabel('Count')\n",
    "plt.show()\n"
   ]
  },
  {
   "cell_type": "code",
   "execution_count": 26,
   "id": "83ba0547-a706-46a9-8d49-6bc60ec1981b",
   "metadata": {},
   "outputs": [
    {
     "data": {
      "image/png": "[encoded data removed]",
      "text/plain": [
       "<Figure size 640x480 with 1 Axes>"
      ]
     },
     "metadata": {},
     "output_type": "display_data"
    }
   ],
   "source": [
    "ratings_per_movie = ratings.groupby('movieId').count()['rating']\n",
    "ratings_per_movie.hist(bins=6)\n",
    "plt.title('Number of Ratings per Movie')\n",
    "plt.xlabel('Number of Ratings')\n",
    "plt.ylabel('Count')\n",
    "plt.show()"
   ]
  },
  {
   "cell_type": "code",
   "execution_count": 27,
   "id": "374078ee-36bc-49d9-938e-5878f95ff008",
   "metadata": {},
   "outputs": [],
   "source": [
    "ratings['userId'] = ratings['userId'].astype(int)\n",
    "ratings['movieId'] = ratings['movieId'].astype(int)"
   ]
  },
  {
   "cell_type": "code",
   "execution_count": 28,
   "id": "39eaf647-2c9f-4e56-8c09-e85bc2ae34c3",
   "metadata": {},
   "outputs": [
    {
     "name": "stdout",
     "output_type": "stream",
     "text": [
      "rating_threshold = 1.0\n",
      "exclude_unknowns = True\n",
      "---\n",
      "Training data:\n",
      "Number of users = 10616\n",
      "Number of items = 19133\n",
      "Number of ratings = 838860\n",
      "Max rating = 5.0\n",
      "Min rating = 0.5\n",
      "Global mean = 3.5\n",
      "---\n",
      "Test data:\n",
      "Number of users = 10616\n",
      "Number of items = 19133\n",
      "Number of ratings = 208182\n",
      "Number of unknown users = 0\n",
      "Number of unknown items = 0\n",
      "---\n",
      "Total users = 10616\n",
      "Total items = 19133\n"
     ]
    }
   ],
   "source": [
    "\n",
    "\n",
    "\n",
    "data = ratings[['userId', 'movieId', 'rating']].values.tolist()\n",
    "\n",
    "# Create an evaluation method (e.g., split into training and testing)\n",
    "eval_method = RatioSplit(data=data, test_size=0.2, exclude_unknowns=True, verbose=True)\n"
   ]
  },
  {
   "cell_type": "code",
   "execution_count": 29,
   "id": "12a9faad-4a4c-4d59-a046-28204ca2bf8a",
   "metadata": {},
   "outputs": [
    {
     "data": {
      "text/plain": [
       "<cornac.models.svd.recom_svd.SVD at 0x28531b65c10>"
      ]
     },
     "execution_count": 29,
     "metadata": {},
     "output_type": "execute_result"
    }
   ],
   "source": [
    "svd = SVD(k=10, max_iter=50, learning_rate=0.01, lambda_reg=0.1)\n",
    "svd.fit(eval_method.train_set)"
   ]
  },
  {
   "cell_type": "code",
   "execution_count": 30,
   "id": "89af0067-40ed-4724-9e4c-4cc84ea6cd30",
   "metadata": {},
   "outputs": [
    {
     "name": "stdout",
     "output_type": "stream",
     "text": [
      "Predicted rating for user 1 and item 110: 3.6880280175596796\n"
     ]
    }
   ],
   "source": [
    "user_id = 1\n",
    "item_id = 110\n",
    "predicted_rating = svd.score(user_id, item_id)\n",
    "print(f\"Predicted rating for user {user_id} and item {item_id}: {predicted_rating}\")\n"
   ]
  },
  {
   "cell_type": "code",
   "execution_count": 31,
   "id": "b2b81731-7796-497b-8e85-35874c2eded2",
   "metadata": {},
   "outputs": [
    {
     "name": "stdout",
     "output_type": "stream",
     "text": [
      "<class 'pandas.core.frame.DataFrame'>\n",
      "RangeIndex: 1048575 entries, 0 to 1048574\n",
      "Data columns (total 3 columns):\n",
      " #   Column   Non-Null Count    Dtype  \n",
      "---  ------   --------------    -----  \n",
      " 0   userId   1048575 non-null  int32  \n",
      " 1   movieId  1048575 non-null  int32  \n",
      " 2   rating   1048575 non-null  float64\n",
      "dtypes: float64(1), int32(2)\n",
      "memory usage: 16.0 MB\n"
     ]
    }
   ],
   "source": [
    "ratings.info()"
   ]
  },
  {
   "cell_type": "code",
   "execution_count": null,
   "id": "a0e9944c-33b5-40ad-b1c1-7f56522b1b3e",
   "metadata": {},
   "outputs": [],
   "source": []
  },
  {
   "cell_type": "code",
   "execution_count": 32,
   "id": "743b9d18-289a-41ba-9680-f82f1be45912",
   "metadata": {},
   "outputs": [
    {
     "name": "stdout",
     "output_type": "stream",
     "text": [
      "<class 'pandas.core.frame.DataFrame'>\n",
      "Index: 45463 entries, 0 to 45465\n",
      "Data columns (total 24 columns):\n",
      " #   Column                 Non-Null Count  Dtype  \n",
      "---  ------                 --------------  -----  \n",
      " 0   adult                  45463 non-null  object \n",
      " 1   belongs_to_collection  4491 non-null   object \n",
      " 2   budget                 45463 non-null  object \n",
      " 3   genres                 45463 non-null  object \n",
      " 4   homepage               7779 non-null   object \n",
      " 5   id                     45463 non-null  int32  \n",
      " 6   imdb_id                45446 non-null  object \n",
      " 7   original_language      45452 non-null  object \n",
      " 8   original_title         45463 non-null  object \n",
      " 9   overview               44509 non-null  object \n",
      " 10  popularity             45460 non-null  object \n",
      " 11  poster_path            45077 non-null  object \n",
      " 12  production_companies   45460 non-null  object \n",
      " 13  production_countries   45460 non-null  object \n",
      " 14  release_date           45376 non-null  object \n",
      " 15  revenue                45460 non-null  float64\n",
      " 16  runtime                45203 non-null  float64\n",
      " 17  spoken_languages       45460 non-null  object \n",
      " 18  status                 45379 non-null  object \n",
      " 19  tagline                20412 non-null  object \n",
      " 20  title                  45460 non-null  object \n",
      " 21  video                  45460 non-null  object \n",
      " 22  vote_average           45460 non-null  float64\n",
      " 23  vote_count             45460 non-null  float64\n",
      "dtypes: float64(4), int32(1), object(19)\n",
      "memory usage: 8.5+ MB\n"
     ]
    }
   ],
   "source": [
    "movies.info()"
   ]
  },
  {
   "cell_type": "code",
   "execution_count": null,
   "id": "0b12672d-3fef-4421-89bd-af325de3cbe4",
   "metadata": {},
   "outputs": [],
   "source": [
    "\n",
    "\n",
    "\n",
    "\n"
   ]
  },
  {
   "cell_type": "code",
   "execution_count": null,
   "id": "727174f2-0552-4f57-b1ef-4e7b10840455",
   "metadata": {},
   "outputs": [],
   "source": []
  },
  {
   "cell_type": "code",
   "execution_count": 33,
   "id": "110810bd-fa3e-41fa-bfab-266cd2892f56",
   "metadata": {},
   "outputs": [],
   "source": [
    "def recommend_top_n_movies(user_id, num_recommendations=10):\n",
    "  \n",
    "    global svd, movies, ratings\n",
    "    ratings['movieId'] = ratings['movieId'].astype(int)\n",
    "    ratings['userId'] = ratings['userId'].astype(int)\n",
    "    movies['id'] = movies['id'].astype(int)\n",
    "\n",
    "    # Get the list of all movie IDs\n",
    "    all_movie_ids = movies['id'].unique()\n",
    "    \n",
    "    # Get the list of movies already rated by the user\n",
    "    rated_movies = ratings[ratings['userId'] == user_id]['movieId'].unique()\n",
    "    \n",
    "    # Filter out movies already rated by the user\n",
    "    movies_to_predict = [movie_id for movie_id in all_movie_ids if movie_id not in rated_movies]\n",
    "    \n",
    "    # Predict ratings for the remaining movies\n",
    "    predictions = []\n",
    "    for movie_id in movies_to_predict:\n",
    "        try:\n",
    "            predicted_rating = svd.score(user_id, movie_id)\n",
    "            predictions.append((movie_id, predicted_rating))\n",
    "        except:\n",
    "            # Ignore movies that cannot be scored\n",
    "            pass\n",
    "    \n",
    "    # Sort predictions by predicted rating in descending order\n",
    "    predictions = sorted(predictions, key=lambda x: x[1], reverse=True)\n",
    "    \n",
    "    # Get the top N movie IDs\n",
    "    top_n_movie_ids = [movie_id for movie_id, _ in predictions[:num_recommendations]]\n",
    "    \n",
    "    # Fetch movie details for the top N movies\n",
    "    top_n_movies = movies[movies['id'].isin(top_n_movie_ids)]\n",
    "    \n",
    "    # Add predicted ratings to the recommendations\n",
    "    top_n_movies = top_n_movies.copy()\n",
    "    top_n_movies['predicted_rating'] = top_n_movies['id'].map(\n",
    "        dict(predictions)\n",
    "    )\n",
    "    \n",
    "    return top_n_movies.sort_values(by='predicted_rating', ascending=False)\n"
   ]
  },
  {
   "cell_type": "code",
   "execution_count": 34,
   "id": "8197b142-6ec6-45b4-bd1b-d87173062654",
   "metadata": {},
   "outputs": [
    {
     "name": "stdout",
     "output_type": "stream",
     "text": [
      "Top 10 Recommended Movies:\n",
      "                                          title  predicted_rating\n",
      "45111                                   Trivial          5.106031\n",
      "7230                                      Shade          5.010871\n",
      "14007      Evangelion: 1.0: You Are (Not) Alone          4.853599\n",
      "12891                      Let the Right One In          4.845743\n",
      "17693                                 Walled In          4.833253\n",
      "10029  The Private Lives of Elizabeth and Essex          4.828966\n",
      "14758                                   Cabiria          4.789701\n",
      "10145                        Happily Ever After          4.766703\n",
      "7016                            Chasing Liberty          4.753594\n",
      "6240                                Whale Rider          4.749028\n"
     ]
    }
   ],
   "source": [
    "# Call the recommendation function for user 1 and get the top 10 recommendations\n",
    "recommendations = recommend_top_n_movies(user_id=1, num_recommendations=10)\n",
    "\n",
    "# Print recommendations in a readable format\n",
    "print(\"Top 10 Recommended Movies:\")\n",
    "print(recommendations[['title', 'predicted_rating']])"
   ]
  },
  {
   "cell_type": "code",
   "execution_count": null,
   "id": "c0e30c6d-0a32-44a4-b87e-4fc461f9b6e6",
   "metadata": {},
   "outputs": [],
   "source": []
  },
  {
   "cell_type": "code",
   "execution_count": null,
   "id": "d97c8ce3-a091-42cf-a595-891f64329842",
   "metadata": {},
   "outputs": [],
   "source": [
    "movies = movies[movies['id'].str.isdigit()]\n",
    "movies['id'] = movies['id'].astype(int)\n"
   ]
  },
  {
   "cell_type": "code",
   "execution_count": null,
   "id": "06f23970-7f70-4b69-a788-fb4d0a837bbe",
   "metadata": {},
   "outputs": [],
   "source": [
    "non_numeric_ids = movies[~movies['id'].str.isdigit()]\n",
    "print(non_numeric_ids)\n"
   ]
  },
  {
   "cell_type": "code",
   "execution_count": null,
   "id": "5ce8ecf4-08ef-4766-9dae-181f16365b41",
   "metadata": {},
   "outputs": [],
   "source": [
    "movies = movies[movies['id'].str.isdigit()]\n",
    "movies['id'] = movies['id'].astype(int)\n"
   ]
  },
  {
   "cell_type": "code",
   "execution_count": 39,
   "id": "b2467374-47f1-4d6a-b7a5-19c14705507b",
   "metadata": {},
   "outputs": [
    {
     "name": "stdout",
     "output_type": "stream",
     "text": [
      "int32\n",
      "   adult                              belongs_to_collection    budget  \\\n",
      "0  False  {'id': 10194, 'name': 'Toy Story Collection', ...  30000000   \n",
      "1  False                                                NaN  65000000   \n",
      "2  False  {'id': 119050, 'name': 'Grumpy Old Men Collect...         0   \n",
      "3  False                                                NaN  16000000   \n",
      "4  False  {'id': 96871, 'name': 'Father of the Bride Col...         0   \n",
      "\n",
      "                                              genres  \\\n",
      "0  [{'id': 16, 'name': 'Animation'}, {'id': 35, '...   \n",
      "1  [{'id': 12, 'name': 'Adventure'}, {'id': 14, '...   \n",
      "2  [{'id': 10749, 'name': 'Romance'}, {'id': 35, ...   \n",
      "3  [{'id': 35, 'name': 'Comedy'}, {'id': 18, 'nam...   \n",
      "4                     [{'id': 35, 'name': 'Comedy'}]   \n",
      "\n",
      "                               homepage     id    imdb_id original_language  \\\n",
      "0  http://toystory.disney.com/toy-story    862  tt0114709                en   \n",
      "1                                   NaN   8844  tt0113497                en   \n",
      "2                                   NaN  15602  tt0113228                en   \n",
      "3                                   NaN  31357  tt0114885                en   \n",
      "4                                   NaN  11862  tt0113041                en   \n",
      "\n",
      "                original_title  \\\n",
      "0                    Toy Story   \n",
      "1                      Jumanji   \n",
      "2             Grumpier Old Men   \n",
      "3            Waiting to Exhale   \n",
      "4  Father of the Bride Part II   \n",
      "\n",
      "                                            overview  ... release_date  \\\n",
      "0  Led by Woody, Andy's toys live happily in his ...  ...   1995-10-30   \n",
      "1  When siblings Judy and Peter discover an encha...  ...   1995-12-15   \n",
      "2  A family wedding reignites the ancient feud be...  ...   1995-12-22   \n",
      "3  Cheated on, mistreated and stepped on, the wom...  ...   1995-12-22   \n",
      "4  Just when George Banks has recovered from his ...  ...   1995-02-10   \n",
      "\n",
      "       revenue runtime                                   spoken_languages  \\\n",
      "0  373554033.0    81.0           [{'iso_639_1': 'en', 'name': 'English'}]   \n",
      "1  262797249.0   104.0  [{'iso_639_1': 'en', 'name': 'English'}, {'iso...   \n",
      "2          0.0   101.0           [{'iso_639_1': 'en', 'name': 'English'}]   \n",
      "3   81452156.0   127.0           [{'iso_639_1': 'en', 'name': 'English'}]   \n",
      "4   76578911.0   106.0           [{'iso_639_1': 'en', 'name': 'English'}]   \n",
      "\n",
      "     status                                            tagline  \\\n",
      "0  Released                                                NaN   \n",
      "1  Released          Roll the dice and unleash the excitement!   \n",
      "2  Released  Still Yelling. Still Fighting. Still Ready for...   \n",
      "3  Released  Friends are the people who let you be yourself...   \n",
      "4  Released  Just When His World Is Back To Normal... He's ...   \n",
      "\n",
      "                         title  video vote_average vote_count  \n",
      "0                    Toy Story  False          7.7     5415.0  \n",
      "1                      Jumanji  False          6.9     2413.0  \n",
      "2             Grumpier Old Men  False          6.5       92.0  \n",
      "3            Waiting to Exhale  False          6.1       34.0  \n",
      "4  Father of the Bride Part II  False          5.7      173.0  \n",
      "\n",
      "[5 rows x 24 columns]\n"
     ]
    }
   ],
   "source": [
    "print(movies['id'].dtype)\n",
    "print(movies.head())\n"
   ]
  },
  {
   "cell_type": "code",
   "execution_count": 44,
   "id": "7c23eee3-c9ff-4a7b-ade6-75138a239c59",
   "metadata": {},
   "outputs": [
    {
     "name": "stdout",
     "output_type": "stream",
     "text": [
      " * Serving Flask app '__main__'\n",
      " * Debug mode: on\n"
     ]
    },
    {
     "name": "stderr",
     "output_type": "stream",
     "text": [
      "WARNING: This is a development server. Do not use it in a production deployment. Use a production WSGI server instead.\n",
      " * Running on http://127.0.0.1:5000\n",
      "Press CTRL+C to quit\n",
      " * Restarting with watchdog (windowsapi)\n"
     ]
    },
    {
     "ename": "SystemExit",
     "evalue": "1",
     "output_type": "error",
     "traceback": [
      "An exception has occurred, use %tb to see the full traceback.\n",
      "\u001b[1;31mSystemExit\u001b[0m\u001b[1;31m:\u001b[0m 1\n"
     ]
    }
   ],
   "source": [
    "from flask import Flask, request, jsonify\n",
    "app = Flask(__name__)\n",
    "@app.route('/recommend', methods=['POST'])\n",
    "def recommend():\n",
    "    data = request.get_json(force=True)\n",
    "    user_id = data['user_id']\n",
    "    num_recommendations = data.get('num_recommendations', 10)\n",
    "    recommendations = recommend_top_n_movies(user_id, num_recommendations)\n",
    "    return jsonify(recommendations.to_dict(orient='records'))\n",
    "if __name__ == '__main__':\n",
    "    app.run(debug=True)\n"
   ]
  },
  {
   "cell_type": "code",
   "execution_count": null,
   "id": "a6189c28-2b50-4480-a3a5-f881f30c9bc7",
   "metadata": {},
   "outputs": [],
   "source": []
  }
 ],
 "metadata": {
  "kernelspec": {
   "display_name": "Python 3 (ipykernel)",
   "language": "python",
   "name": "python3"
  },
  "language_info": {
   "codemirror_mode": {
    "name": "ipython",
    "version": 3
   },
   "file_extension": ".py",
   "mimetype": "text/x-python",
   "name": "python",
   "nbconvert_exporter": "python",
   "pygments_lexer": "ipython3",
   "version": "3.11.7"
  }
 },
 "nbformat": 4,
 "nbformat_minor": 5
}
